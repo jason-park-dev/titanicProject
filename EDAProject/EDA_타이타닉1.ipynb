{
 "cells": [
  {
   "cell_type": "markdown",
   "metadata": {},
   "source": [
    "## 타이타닉 생존율을 위한 데이터 분석 \n",
    "   - EDA(Exploratory data analysis)기반 데이터 분석\n",
    "   - EDA는 데이터를 시각화 하고 요약 통계를 통해 이해 함으로써 데이터 구조, 이상치, 패턴 등을 발견하는 활동(과정) 입니다.\n",
    "   - 데이터 분석 과정의 초기단계에서 중요한 역할을 하며, 데이터에 대한 초기 통찰을 얻어 모델링 작업을 위한 기초를 다져보자. "
   ]
  },
  {
   "cell_type": "markdown",
   "metadata": {},
   "source": [
    "##### EDA의 주요목적\n",
    "  - 데이터 이해\n",
    "  - 이상치 발견\n",
    "  - 가설 설정\n",
    "  - 데이터 변환\n",
    "##### EDA의 주요기법\n",
    "  - 기술 통계 : 평균,중앙 값,분산,표준 편차 등 기본 통계량을 계산하여 데이터의 특성을 파악합니다.\n",
    "  - 데이터 시각화 -seaborn \n",
    "  - 상관분석 : 두 변수간의 상관관계를 분석하여 변수간의 관계를 파악합니다.\n",
    "  - 히트맵(Heatmap) : 상관관계를 시각적으로 표현 합니다."
   ]
  },
  {
   "cell_type": "markdown",
   "metadata": {},
   "source": [
    "### 시작하기\n",
    "- 머신러닝에는 데이터 전처리,회귀,분류,군집화,연관규칙학습,강화학습,자연어처리 등 다양한 분야가 있다.\n",
    "- 머신러닝 모델을 구축할 때 올바른 데이터로 훈련하기 위해서는 반드시 데이터 전처리 단계부터 시작해야 합니다."
   ]
  },
  {
   "cell_type": "markdown",
   "metadata": {},
   "source": [
    "### 머신 러닝 모델 학습을 위한 구현 순서\n",
    "1.라이브러리 임포트   \n",
    "2.데이터셋 임포트   \n",
    "3.결측데이터 처리   \n",
    "4.범주형 데이터 인코딩 방법   \n",
    "5.데이터 세트를 훈련세트와 테스트 세트로 나누기   \n",
    "6.특성 스케일링(필수아님 -필요여부에 따라)   "
   ]
  },
  {
   "cell_type": "code",
   "execution_count": 5,
   "metadata": {},
   "outputs": [],
   "source": [
    "import pandas as pd\n",
    "import numpy as np\n",
    "import seaborn as sns\n",
    "import matplotlib.pyplot as plt\n",
    "import matplotlib.font_manager as fm #한글 폰트"
   ]
  },
  {
   "cell_type": "markdown",
   "metadata": {},
   "source": [
    "공통 코드(로컬) - 한글 폰트 설정  \n",
    "  - 파일 경로 \n",
    "    - 상대경로 : 클라우드나 웹서버 공유시 경로 이슈를 해결할 수 있다.\n",
    "    - 하나 위의 경로는 ../ 로 사용하고 현재 바라보는 경로는 ./를 사용합니다.  \n",
    "   \n",
    "예시)  \n",
    "     - 이 문서의 위치 \n",
    "        - pythonbasic > EDAProject > XXX.ipynb  \n",
    "     - 한글 글꼴의 위치 \n",
    "        - pythonbasic > malgun.ttf \n",
    "    "
   ]
  },
  {
   "cell_type": "code",
   "execution_count": null,
   "metadata": {},
   "outputs": [],
   "source": [
    "import matplotlib.font_manager as fm\n",
    "import matplotlib.pyplot as plt\n",
    "import matplotlib\n",
    "from matplotlib import rc\n",
    "path = \"../malgun.ttf\"\n",
    "font_name = fm.FontProperties(fname=path).get_name()\n",
    "matplotlib.rc('font', family=font_name)\n",
    "plt.rc('font', family=\"Malgun Gothic\")"
   ]
  },
  {
   "cell_type": "markdown",
   "metadata": {},
   "source": [
    "python의 경고 메시지를 무시하는 설정이 있습니다.  \n",
    "경고 메시지가 출력되지 않게 만들어, 경고로 인한 코드 실행이 방해 받지 않도록 할수 있습니다."
   ]
  },
  {
   "cell_type": "code",
   "execution_count": null,
   "metadata": {},
   "outputs": [],
   "source": [
    "import warnings\n",
    "warnings.filterwarnings(action=\"ignore\")"
   ]
  },
  {
   "cell_type": "code",
   "execution_count": null,
   "metadata": {},
   "outputs": [],
   "source": [
    "#훈련데이터 - 모형\n",
    "df_titanic = pd.read_csv(\"../data/titanic/train.csv\")\n",
    "#테스트데이터(답안지)\n",
    "df_test = pd.read_csv(\"../data/titanic/test.csv\")\n",
    "#1번클립 - EDA 실습,분포,차트, 시각화 분석 , 데이터 전처기, 결측처리...\n",
    "#2번클립 - 머신러닝(회귀,분류),손실율(기준->판단), 레포팅 작업\n",
    "# 목표 : Survived 컬럼인 생존여부를 예측하는 프로젝트\n",
    "submission = pd.read_csv(\"../data/titanic/gender_submission.csv\")"
   ]
  },
  {
   "cell_type": "code",
   "execution_count": null,
   "metadata": {},
   "outputs": [],
   "source": [
    "df_titanic.info()"
   ]
  },
  {
   "cell_type": "code",
   "execution_count": null,
   "metadata": {},
   "outputs": [],
   "source": [
    "df_titanic.describe()"
   ]
  },
  {
   "cell_type": "code",
   "execution_count": null,
   "metadata": {},
   "outputs": [],
   "source": [
    "df_titanic.head(5)"
   ]
  },
  {
   "cell_type": "code",
   "execution_count": null,
   "metadata": {},
   "outputs": [],
   "source": [
    "df_titanic.tail(3)"
   ]
  },
  {
   "cell_type": "code",
   "execution_count": null,
   "metadata": {},
   "outputs": [],
   "source": [
    "df_titanic.isnull()"
   ]
  },
  {
   "cell_type": "code",
   "execution_count": null,
   "metadata": {},
   "outputs": [],
   "source": [
    "df_titanic.isnull().sum()"
   ]
  },
  {
   "cell_type": "markdown",
   "metadata": {},
   "source": [
    "결측치를 seaborn 활용하여 시각화하기"
   ]
  },
  {
   "cell_type": "code",
   "execution_count": null,
   "metadata": {},
   "outputs": [],
   "source": [
    "import seaborn as sns\n",
    "#insert here "
   ]
  },
  {
   "cell_type": "markdown",
   "metadata": {},
   "source": [
    "### 2-1.Target변수(Survived)"
   ]
  },
  {
   "cell_type": "code",
   "execution_count": null,
   "metadata": {},
   "outputs": [],
   "source": [
    "df_titanic[\"Survived\"].value_counts"
   ]
  },
  {
   "cell_type": "code",
   "execution_count": null,
   "metadata": {},
   "outputs": [],
   "source": [
    "plt.figure(figsize=(8,5))\n",
    "labels=[\"사망\",\"생존\"]\n",
    "df_titanic[\"Survived\"].value_counts().plot.pie(explode=[0,0.08]\n",
    "                                               ,shadow=True\n",
    "                                               ,autopct=\"%1.1f%%\"\n",
    "                                               ,labels=labels) # type: ignore"
   ]
  },
  {
   "cell_type": "markdown",
   "metadata": {},
   "source": [
    "사망 비율은 61.6%, 생존 비율은 38.4%로 사망한 탑승객의 수가 더 많은것으로 확인된다."
   ]
  },
  {
   "cell_type": "code",
   "execution_count": null,
   "metadata": {},
   "outputs": [],
   "source": [
    "df_titanic.columns"
   ]
  },
  {
   "cell_type": "code",
   "execution_count": null,
   "metadata": {},
   "outputs": [],
   "source": [
    "df_titanic[\"Survived\"].value_counts()"
   ]
  },
  {
   "cell_type": "markdown",
   "metadata": {},
   "source": [
    "### 2-2 성별(남성:male, 여성:female)\n",
    "남성의 탑승자 수가 더 많지만 여성의 생존자 수가 더 많다."
   ]
  },
  {
   "cell_type": "code",
   "execution_count": null,
   "metadata": {},
   "outputs": [],
   "source": [
    "fig, axes = plt.subplots(1, 2, figsize=(12, 5))\n",
    "axes[0].set_title(\"성별 탑승자 수 \\n\", size=15)\n",
    "sns.countplot(x=\"Sex\", data=df_titanic, ax=axes[0])\n",
    "axes[1].set_title(\"성별 생존자 수 \\n\", size=15)\n",
    "sns.countplot(x=\"Sex\", hue=\"Survived\", data=df_titanic, ax=axes[1])\n",
    "axes[1].legend(labels = ['사망', '생존'])"
   ]
  },
  {
   "cell_type": "markdown",
   "metadata": {},
   "source": [
    "### 2-3 티켓 클래스(Pclass) \n",
    "  - 티켓 클래스별로 어떤 생존율을 보이고 있는가?  \n",
    "    - 1등석의 생존율은 약 63%, 2등석의 생존율은 47.3%, 3등석의 생존율은 24.2% 이다  \n",
    "    - 3등석 탑승객들이 많이 사망한것으로 보인다."
   ]
  },
  {
   "cell_type": "code",
   "execution_count": null,
   "metadata": {},
   "outputs": [],
   "source": [
    "df_titanic[[\"Pclass\",\"Survived\"]].groupby(\"Pclass\").mean()"
   ]
  },
  {
   "cell_type": "markdown",
   "metadata": {},
   "source": [
    "위 결과를 시각화해서 살펴봅시다.  \n",
    " - 3등석의 탑승객이 가장 많고, 또한 3등석의 탑승객의 사망 인원수가 가장 많습니다.\n",
    " - 상대적으로 1등석 탑승객들은 많이 생존한것으로 보인다.\n",
    " - 티켓 클래스는 생존여부에 영향을 준 것으로 보인다."
   ]
  },
  {
   "cell_type": "code",
   "execution_count": null,
   "metadata": {},
   "outputs": [],
   "source": [
    "# 시각화 실습 - 1,2했을때 두개의 차트\n",
    "fig, axes = plt.subplots(1, 2, figsize=(12, 5))\n",
    "axes[0].set_title(\"클래스별 탑승자 수 \\n\", size=15)\n",
    "sns.countplot(x=\"Pclass\", data=df_titanic, ax=axes[0])\n",
    "axes[1].set_title(\"클래스별 생존/사망자 수 \\n\", size=15)\n",
    "sns.countplot(x=\"Pclass\", hue=\"Survived\", data=df_titanic, ax=axes[1])\n",
    "axes[1].legend(labels = ['사망', '생존'])"
   ]
  },
  {
   "cell_type": "markdown",
   "metadata": {},
   "source": [
    "###  2-4 나이 클래스 (Age)  \n",
    "  - 결측치가 존재하는지 여부\n",
    "  - 탑승객들의 평균 나이는 30세 입니다."
   ]
  },
  {
   "cell_type": "code",
   "execution_count": null,
   "metadata": {},
   "outputs": [],
   "source": [
    "df_titanic[\"Age\"].describe()"
   ]
  },
  {
   "cell_type": "markdown",
   "metadata": {},
   "source": [
    "나이의 분포를 살펴보면 탑승객들의 나이는 주로 20~40세에 분포되어 있습니다."
   ]
  },
  {
   "cell_type": "code",
   "execution_count": null,
   "metadata": {},
   "outputs": [],
   "source": [
    "plt.figure(figsize=(8,5))\n",
    "sns.distplot(df_titanic[\"Age\"],bins=25)"
   ]
  },
  {
   "cell_type": "markdown",
   "metadata": {},
   "source": [
    "### 2-5. 함께 탑승한 가족의 수(SibSp.Parch)\n",
    " SibSp = 함께 탑승한 형제자매, 배우자 수 총합 \n",
    " Parch = 함께 탑승한 부모, 자녀 수 총합\n",
    " SibSp,Parch : 모두 가족 수 이므로 비슷한 경향을 가질것입니다."
   ]
  },
  {
   "cell_type": "code",
   "execution_count": null,
   "metadata": {},
   "outputs": [],
   "source": [
    "df_titanic[\"SibSp\"].describe()"
   ]
  },
  {
   "cell_type": "code",
   "execution_count": null,
   "metadata": {},
   "outputs": [],
   "source": [
    "df_titanic[\"Parch\"].describe()"
   ]
  },
  {
   "cell_type": "code",
   "execution_count": null,
   "metadata": {},
   "outputs": [],
   "source": [
    "df_titanic[[\"SibSp\",\"Survived\"]].groupby(\"SibSp\").mean()"
   ]
  },
  {
   "cell_type": "code",
   "execution_count": null,
   "metadata": {},
   "outputs": [],
   "source": [
    "df_titanic[[\"Parch\",\"Survived\"]].groupby(\"Parch\").mean()"
   ]
  },
  {
   "cell_type": "markdown",
   "metadata": {},
   "source": [
    "SibSp - 형제자매, 배우자 총합 \n",
    "  - 혼자 탑승한 사람보다 3,4명의 SibSp와 탑승한 승객 들의 사망율이 가장 높다\n",
    "Parch - 부모 자녀 총합  \n",
    "  - 부모, 자녀없이 혼자 탑승한 사람의 사망율이 가장 높다."
   ]
  },
  {
   "cell_type": "markdown",
   "metadata": {},
   "source": [
    "### 2-6. 탑승 항구 (Embarked)\n"
   ]
  }
 ],
 "metadata": {
  "kernelspec": {
   "display_name": "pythonbasic",
   "language": "python",
   "name": "python3"
  },
  "language_info": {
   "codemirror_mode": {
    "name": "ipython",
    "version": 3
   },
   "file_extension": ".py",
   "mimetype": "text/x-python",
   "name": "python",
   "nbconvert_exporter": "python",
   "pygments_lexer": "ipython3",
   "version": "3.9.0"
  }
 },
 "nbformat": 4,
 "nbformat_minor": 2
}
